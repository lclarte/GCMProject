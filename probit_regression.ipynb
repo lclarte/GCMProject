{
 "cells": [
  {
   "cell_type": "markdown",
   "id": "b13ba8e1",
   "metadata": {},
   "source": [
    "# Probit regression\n",
    "\n",
    "Testing probit regression with identity covariance"
   ]
  },
  {
   "cell_type": "code",
   "execution_count": 6,
   "id": "f8088cd3",
   "metadata": {},
   "outputs": [
    {
     "name": "stdout",
     "output_type": "stream",
     "text": [
      "The autoreload extension is already loaded. To reload it, use:\n",
      "  %reload_ext autoreload\n"
     ]
    }
   ],
   "source": [
    "import numpy as np\n",
    "import matplotlib.pyplot as plt\n",
    "import pandas as pd\n",
    "import sys\n",
    "from time import time\n",
    "\n",
    "import cvxpy as cv\n",
    "from statsmodels.discrete.discrete_model import Probit\n",
    "import sklearn.linear_model as linear_model\n",
    "from scipy.special import erfcinv\n",
    "from scipy.stats import norm\n",
    "\n",
    "from state_evolution.models.probit_regression import ProbitRegression # logistic regression task\n",
    "from state_evolution.models.logistic_regression import LogisticRegression # logistic regression task\n",
    "from state_evolution.models.bayes_optimal_probit import BayesOptimalProbit\n",
    "from state_evolution.algorithms.state_evolution import StateEvolution # Standard SP iteration\n",
    "from state_evolution.auxiliary.utility import *\n",
    "from state_evolution.data_models.custom import Custom # Custom data model. You input the covariances\n",
    "\n",
    "sys.path.append('../state-evolution-erm-logistic/')\n",
    "import core.se.solve_se as solve_se\n",
    "\n",
    "%load_ext autoreload\n",
    "%autoreload 2"
   ]
  },
  {
   "cell_type": "code",
   "execution_count": 2,
   "id": "518804d3",
   "metadata": {},
   "outputs": [],
   "source": [
    "# empirical probit \n",
    "\n",
    "def get_empirical_probit(X, y, lambda_):\n",
    "    w = cv.Variable(d)\n",
    "    error = - cv.sum(cv.log_normcdf(cv.multiply(y, X @ w))) + lambda_ / 2 * cv.sum_squares(w)\n",
    "    obj = cv.Minimize(error)\n",
    "    prob = cv.Problem(obj)\n",
    "    prob.solve()\n",
    "\n",
    "    weight = w.value\n",
    "    return weight\n",
    "\n",
    "def run_statsmodel_probit(X, y, lambda_):\n",
    "    y_probit = (1. + y) / 2.\n",
    "    pr = Probit(y_probit, X)\n",
    "    res = pr.fit()\n",
    "    return res.params\n",
    "    "
   ]
  },
  {
   "cell_type": "markdown",
   "id": "4d11a16c",
   "metadata": {},
   "source": [
    "### Running as a function of alpha \n",
    "\n",
    "Fix the level, compute the calibration"
   ]
  },
  {
   "cell_type": "code",
   "execution_count": 7,
   "id": "b4c283f9",
   "metadata": {},
   "outputs": [
    {
     "name": "stdout",
     "output_type": "stream",
     "text": [
      "10.0\n",
      "choice overlap:final\n",
      "min gen: id:50 val:3.906e-01\n",
      "{'m': 0.5404717586987691, 'q': 0.5142799098843992, 'Q': 0.6953576995965118, 'm_hat': 2.697303023539493, 'q_hat': 5.545316214343918, 'Q_hat': -0.6162746147769023}\n",
      "min diff: id:50 val:3.906e-01\n",
      "{'m': 0.5404717586987691, 'q': 0.5142799098843992, 'Q': 0.6953576995965118, 'm_hat': 2.697303023539493, 'q_hat': 5.545316214343918, 'Q_hat': -0.6162746147769023}\n",
      "final: id:50 val:3.906e-01\n",
      "{'m': 0.5404717586987691, 'q': 0.5142799098843992, 'Q': 0.6953576995965118, 'm_hat': 2.697303023539493, 'q_hat': 5.545316214343918, 'Q_hat': -0.6162746147769023}\n",
      "done with se\n",
      "20.0\n",
      "choice overlap:final\n",
      "min gen: id:50 val:3.747e-01\n",
      "{'m': 0.5188440550775877, 'q': 0.3662268860794946, 'Q': 0.44893462516896987, 'm_hat': 5.627792581355175, 'q_hat': 11.41903208009589, 'Q_hat': -0.6541925815701709}\n",
      "min diff: id:50 val:3.747e-01\n",
      "{'m': 0.5188440550775877, 'q': 0.3662268860794946, 'Q': 0.44893462516896987, 'm_hat': 5.627792581355175, 'q_hat': 11.41903208009589, 'Q_hat': -0.6541925815701709}\n",
      "final: id:50 val:3.747e-01\n",
      "{'m': 0.5188440550775877, 'q': 0.3662268860794946, 'Q': 0.44893462516896987, 'm_hat': 5.627792581355175, 'q_hat': 11.41903208009589, 'Q_hat': -0.6541925815701709}\n",
      "done with se\n",
      "30.0\n",
      "choice overlap:final\n",
      "min gen: id:50 val:3.682e-01\n",
      "{'m': 0.512138258637926, 'q': 0.32421921150431793, 'Q': 0.3770549393421883, 'm_hat': 8.558225001733112, 'q_hat': 17.291638216186584, 'Q_hat': -0.6798747246707546}\n",
      "min diff: id:50 val:3.682e-01\n",
      "{'m': 0.512138258637926, 'q': 0.32421921150431793, 'Q': 0.3770549393421883, 'm_hat': 8.558225001733112, 'q_hat': 17.291638216186584, 'Q_hat': -0.6798747246707546}\n",
      "final: id:50 val:3.682e-01\n",
      "{'m': 0.512138258637926, 'q': 0.32421921150431793, 'Q': 0.3770549393421883, 'm_hat': 8.558225001733112, 'q_hat': 17.291638216186584, 'Q_hat': -0.6798747246707546}\n",
      "done with se\n",
      "40.0\n",
      "choice overlap:final\n",
      "min gen: id:50 val:3.647e-01\n",
      "{'m': 0.5086296481035025, 'q': 0.30412804998318943, 'Q': 0.3422742522156633, 'm_hat': 11.490129367395843, 'q_hat': 23.169693417023893, 'Q_hat': -0.7010721960253647}\n",
      "min diff: id:50 val:3.647e-01\n",
      "{'m': 0.5086296481035025, 'q': 0.30412804998318943, 'Q': 0.3422742522156633, 'm_hat': 11.490129367395843, 'q_hat': 23.169693417023893, 'Q_hat': -0.7010721960253647}\n",
      "final: id:50 val:3.647e-01\n",
      "{'m': 0.5086296481035025, 'q': 0.30412804998318943, 'Q': 0.3422742522156633, 'm_hat': 11.490129367395843, 'q_hat': 23.169693417023893, 'Q_hat': -0.7010721960253647}\n",
      "done with se\n",
      "50.0\n",
      "choice overlap:final\n",
      "min gen: id:50 val:3.624e-01\n",
      "{'m': 0.5063919435661803, 'q': 0.29227194277668045, 'Q': 0.3215962668433723, 'm_hat': 14.42332008710067, 'q_hat': 29.052823798063876, 'Q_hat': -0.720573839228332}\n",
      "min diff: id:50 val:3.624e-01\n",
      "{'m': 0.5063919435661803, 'q': 0.29227194277668045, 'Q': 0.3215962668433723, 'm_hat': 14.42332008710067, 'q_hat': 29.052823798063876, 'Q_hat': -0.720573839228332}\n",
      "final: id:50 val:3.624e-01\n",
      "{'m': 0.5063919435661803, 'q': 0.29227194277668045, 'Q': 0.3215962668433723, 'm_hat': 14.42332008710067, 'q_hat': 29.052823798063876, 'Q_hat': -0.720573839228332}\n",
      "done with se\n",
      "60.0\n",
      "choice overlap:final\n",
      "min gen: id:50 val:3.609e-01\n",
      "{'m': 0.5051003181754138, 'q': 0.2847412699852991, 'Q': 0.30844133491644493, 'm_hat': 17.35475690713679, 'q_hat': 34.92937691163618, 'Q_hat': -0.7415230688162294}\n",
      "min diff: id:50 val:3.609e-01\n",
      "{'m': 0.5051003181754138, 'q': 0.2847412699852991, 'Q': 0.30844133491644493, 'm_hat': 17.35475690713679, 'q_hat': 34.92937691163618, 'Q_hat': -0.7415230688162294}\n",
      "final: id:50 val:3.609e-01\n",
      "{'m': 0.5051003181754138, 'q': 0.2847412699852991, 'Q': 0.30844133491644493, 'm_hat': 17.35475690713679, 'q_hat': 34.92937691163618, 'Q_hat': -0.7415230688162294}\n",
      "done with se\n",
      "70.0\n",
      "choice overlap:final\n",
      "min gen: id:50 val:3.597e-01\n",
      "{'m': 0.5045570058012258, 'q': 0.27984483319529213, 'Q': 0.29994694167982616, 'm_hat': 20.28189425411363, 'q_hat': 40.789239767762055, 'Q_hat': -0.7645875520242356}\n",
      "min diff: id:50 val:3.597e-01\n",
      "{'m': 0.5045570058012258, 'q': 0.27984483319529213, 'Q': 0.29994694167982616, 'm_hat': 20.28189425411363, 'q_hat': 40.789239767762055, 'Q_hat': -0.7645875520242356}\n",
      "final: id:50 val:3.597e-01\n",
      "{'m': 0.5045570058012258, 'q': 0.27984483319529213, 'Q': 0.29994694167982616, 'm_hat': 20.28189425411363, 'q_hat': 40.789239767762055, 'Q_hat': -0.7645875520242356}\n",
      "done with se\n",
      "80.0\n",
      "choice overlap:final\n",
      "min gen: id:50 val:3.589e-01\n",
      "{'m': 0.5034395302111662, 'q': 0.27542768428705694, 'Q': 0.29211525125558246, 'm_hat': 23.21823165199077, 'q_hat': 46.684834118806094, 'Q_hat': -0.7816476977201365}\n",
      "min diff: id:50 val:3.589e-01\n",
      "{'m': 0.5034395302111662, 'q': 0.27542768428705694, 'Q': 0.29211525125558246, 'm_hat': 23.21823165199077, 'q_hat': 46.684834118806094, 'Q_hat': -0.7816476977201365}\n",
      "final: id:50 val:3.589e-01\n",
      "{'m': 0.5034395302111662, 'q': 0.27542768428705694, 'Q': 0.29211525125558246, 'm_hat': 23.21823165199077, 'q_hat': 46.684834118806094, 'Q_hat': -0.7816476977201365}\n",
      "done with se\n",
      "90.0\n",
      "choice overlap:final\n",
      "min gen: id:50 val:3.582e-01\n",
      "{'m': 0.5027870543963662, 'q': 0.27225437259244123, 'Q': 0.2865206613854436, 'm_hat': 26.15140751038412, 'q_hat': 52.568218384005675, 'Q_hat': -0.8005613427807701}\n",
      "min diff: id:50 val:3.582e-01\n",
      "{'m': 0.5027870543963662, 'q': 0.27225437259244123, 'Q': 0.2865206613854436, 'm_hat': 26.15140751038412, 'q_hat': 52.568218384005675, 'Q_hat': -0.8005613427807701}\n",
      "final: id:50 val:3.582e-01\n",
      "{'m': 0.5027870543963662, 'q': 0.27225437259244123, 'Q': 0.2865206613854436, 'm_hat': 26.15140751038412, 'q_hat': 52.568218384005675, 'Q_hat': -0.8005613427807701}\n",
      "done with se\n",
      "100.0\n"
     ]
    },
    {
     "name": "stderr",
     "output_type": "stream",
     "text": [
      "/Users/lucasclarte/Code/EPFL/GCMProject/../state-evolution-erm-logistic/core/sp/sp.py:105: RuntimeWarning: invalid value encountered in sqrt\n",
      "  np.sqrt((2 * pi * V) * (2 * pi * self.params[\"Delta\"]))\n"
     ]
    },
    {
     "name": "stdout",
     "output_type": "stream",
     "text": [
      "choice overlap:final\n",
      "min gen: id:50 val:3.576e-01\n",
      "{'m': 0.5022172878748272, 'q': 0.269679824582944, 'Q': 0.2819699935192346, 'm_hat': 29.08530461405891, 'q_hat': 58.45447566917968, 'Q_hat': -0.8187959296033962}\n",
      "min diff: id:50 val:3.576e-01\n",
      "{'m': 0.5022172878748272, 'q': 0.269679824582944, 'Q': 0.2819699935192346, 'm_hat': 29.08530461405891, 'q_hat': 58.45447566917968, 'Q_hat': -0.8187959296033962}\n",
      "final: id:50 val:3.576e-01\n",
      "{'m': 0.5022172878748272, 'q': 0.269679824582944, 'Q': 0.2819699935192346, 'm_hat': 29.08530461405891, 'q_hat': 58.45447566917968, 'Q_hat': -0.8187959296033962}\n",
      "done with se\n"
     ]
    }
   ],
   "source": [
    "# FOR PROBIT \n",
    "\n",
    "alpha_range  = np.linspace(10.0, 100.0, 10)\n",
    "sigma   = 2.0\n",
    "lambda_ = 0.0\n",
    "\n",
    "pr_m_list, pr_q_list = [], []\n",
    "\n",
    "for alpha in alpha_range:\n",
    "    print(alpha)\n",
    "    retour = solve_se.solve_SE(alpha, model='probit', lambd=lambda_, sigma=sigma, precision=1e-4)\n",
    "    print('done with se')\n",
    "    \n",
    "    m, q = retour['m'], retour['q']\n",
    "    \n",
    "    pr_m_list.append(m)\n",
    "    pr_q_list.append(q)  "
   ]
  },
  {
   "cell_type": "code",
   "execution_count": 5,
   "id": "f751ebc4",
   "metadata": {},
   "outputs": [
    {
     "name": "stdout",
     "output_type": "stream",
     "text": [
      "10.0\n"
     ]
    },
    {
     "ename": "NameError",
     "evalue": "name 'data' is not defined",
     "output_type": "error",
     "traceback": [
      "\u001b[0;31m---------------------------------------------------------------------------\u001b[0m",
      "\u001b[0;31mNameError\u001b[0m                                 Traceback (most recent call last)",
      "\u001b[0;32m/var/folders/j2/fp7w_fyd3sbg73tfmz4s573c0000gn/T/ipykernel_15695/2411859963.py\u001b[0m in \u001b[0;36m<module>\u001b[0;34m\u001b[0m\n\u001b[1;32m      4\u001b[0m     \u001b[0mprint\u001b[0m\u001b[0;34m(\u001b[0m\u001b[0malpha\u001b[0m\u001b[0;34m)\u001b[0m\u001b[0;34m\u001b[0m\u001b[0;34m\u001b[0m\u001b[0m\n\u001b[1;32m      5\u001b[0m \u001b[0;34m\u001b[0m\u001b[0m\n\u001b[0;32m----> 6\u001b[0;31m     \u001b[0mtheta\u001b[0m\u001b[0;34m,\u001b[0m \u001b[0mX\u001b[0m\u001b[0;34m,\u001b[0m \u001b[0my\u001b[0m \u001b[0;34m=\u001b[0m \u001b[0mdata\u001b[0m\u001b[0;34m.\u001b[0m\u001b[0mProbitModelData\u001b[0m\u001b[0;34m(\u001b[0m\u001b[0mcovariance\u001b[0m \u001b[0;34m=\u001b[0m \u001b[0mOmega\u001b[0m\u001b[0;34m,\u001b[0m \u001b[0mteacher_covariance\u001b[0m \u001b[0;34m=\u001b[0m \u001b[0mnp\u001b[0m\u001b[0;34m.\u001b[0m\u001b[0meye\u001b[0m\u001b[0;34m(\u001b[0m\u001b[0md\u001b[0m\u001b[0;34m)\u001b[0m\u001b[0;34m,\u001b[0m \u001b[0msigma\u001b[0m \u001b[0;34m=\u001b[0m \u001b[0msigma\u001b[0m\u001b[0;34m)\u001b[0m\u001b[0;34m.\u001b[0m\u001b[0msample_instance\u001b[0m\u001b[0;34m(\u001b[0m\u001b[0malpha\u001b[0m\u001b[0;34m)\u001b[0m\u001b[0;34m\u001b[0m\u001b[0;34m\u001b[0m\u001b[0m\n\u001b[0m\u001b[1;32m      7\u001b[0m \u001b[0;34m\u001b[0m\u001b[0m\n\u001b[1;32m      8\u001b[0m     \u001b[0mweight\u001b[0m \u001b[0;34m=\u001b[0m \u001b[0mget_empirical_probit\u001b[0m\u001b[0;34m(\u001b[0m\u001b[0mX\u001b[0m\u001b[0;34m,\u001b[0m \u001b[0my\u001b[0m\u001b[0;34m,\u001b[0m \u001b[0mlambda_\u001b[0m\u001b[0;34m)\u001b[0m\u001b[0;34m\u001b[0m\u001b[0;34m\u001b[0m\u001b[0m\n",
      "\u001b[0;31mNameError\u001b[0m: name 'data' is not defined"
     ]
    }
   ],
   "source": [
    "pr_exp_m_list, pr_exp_q_list = [], []\n",
    "\n",
    "for alpha in alpha_range:\n",
    "    print(alpha)\n",
    "    \n",
    "    theta, X, y = data.ProbitModelData(covariance = Omega, teacher_covariance = np.eye(d), sigma = sigma).sample_instance(alpha)\n",
    "        \n",
    "    weight = get_empirical_probit(X, y, lambda_)\n",
    "    exp_m, exp_q = np.mean(theta * weight), np.mean(weight * weight)\n",
    "\n",
    "    pr_exp_m_list.append(exp_m)\n",
    "    pr_exp_q_list.append(exp_q)    "
   ]
  },
  {
   "cell_type": "code",
   "execution_count": 8,
   "id": "68bd7de3",
   "metadata": {},
   "outputs": [
    {
     "data": {
      "text/plain": [
       "<matplotlib.legend.Legend at 0x1532794f0>"
      ]
     },
     "execution_count": 8,
     "metadata": {},
     "output_type": "execute_result"
    },
    {
     "data": {
      "image/png": "[encoded data removed]",
      "text/plain": [
       "<Figure size 432x288 with 1 Axes>"
      ]
     },
     "metadata": {
      "needs_background": "light"
     },
     "output_type": "display_data"
    }
   ],
   "source": [
    "plt.plot(alpha_range, pr_m_list, 'c--',marker='.', label='th m')\n",
    "plt.plot(alpha_range, pr_q_list, 'r--', marker='.', label='th q')\n",
    "\n",
    "plt.plot(alpha_range, np.array(pr_m_list) / np.sqrt(np.array(pr_q_list)), 'k', marker='.', label='angle')\n",
    "\n",
    "#plt.plot(alpha_range, pr_exp_m_list, 'c', marker='.', label='exp m')\n",
    "#plt.plot(alpha_range, pr_exp_q_list, 'r', marker='.', label='exp q')\n",
    "\n",
    "plt.title(f'Lambda = {lambda_}, sigma = {sigma}')\n",
    "plt.legend()"
   ]
  },
  {
   "cell_type": "code",
   "execution_count": 49,
   "id": "c0588625",
   "metadata": {},
   "outputs": [
    {
     "name": "stdout",
     "output_type": "stream",
     "text": [
      "10.0\n",
      "done with se\n",
      "20.0\n",
      "done with se\n",
      "30.0\n",
      "done with se\n",
      "40.0\n",
      "done with se\n",
      "50.0\n",
      "done with se\n",
      "60.0\n",
      "done with se\n",
      "70.0\n",
      "done with se\n",
      "80.0\n",
      "done with se\n",
      "90.0\n",
      "done with se\n",
      "100.0\n",
      "done with se\n"
     ]
    }
   ],
   "source": [
    "# FOR LOGISTIC\n",
    "\n",
    "alpha_range  = np.linspace(10.0, 100.0, 10)\n",
    "sigma   = 2.0\n",
    "lambda_ = 0.0\n",
    "\n",
    "m_list, q_list, exp_m_list, exp_q_list = [], [], [], []\n",
    "\n",
    "for alpha in alpha_range:\n",
    "    print(alpha)\n",
    "    \n",
    "    theta, X, y = data.ProbitModelData(covariance = Omega, teacher_covariance = np.eye(d), sigma = sigma).sample_instance(alpha)\n",
    "    \n",
    "    task = LogisticRegression(sample_complexity = alpha,\n",
    "                            regularisation    = lambda_,\n",
    "                            data_model        = data_model,\n",
    "                            Delta             = sigma**2)\n",
    "\n",
    "    sp = StateEvolution(model = task,\n",
    "                        initialisation = 'uninformed',\n",
    "                        tolerance = 1e-5,\n",
    "                        damping = 0.5,\n",
    "                        verbose = False,\n",
    "                        max_steps = 1000)\n",
    "\n",
    "    sp.iterate()\n",
    "    info = sp.get_info()\n",
    "    print('done with se')\n",
    "    \n",
    "    m, q, rho = info['overlaps']['teacher_student'], info['overlaps']['self_overlap'], 1.0\n",
    "    \n",
    "    if lambda_ > 0.0:\n",
    "        lr = linear_model.LogisticRegression('l2', C=1. / lambda_, fit_intercept=False)\n",
    "    else:\n",
    "        lr = linear_model.LogisticRegression('none', fit_intercept=False)\n",
    "    lr.fit(X, y)\n",
    "    weight = lr.coef_\n",
    "    \n",
    "    exp_m, exp_q = np.mean(theta * weight), np.mean(weight**2)\n",
    "\n",
    "    m_list.append(m)\n",
    "    q_list.append(q)\n",
    "    exp_m_list.append(exp_m)\n",
    "    exp_q_list.append(exp_q)    "
   ]
  },
  {
   "cell_type": "code",
   "execution_count": 9,
   "id": "b45d1136",
   "metadata": {},
   "outputs": [
    {
     "ename": "NameError",
     "evalue": "name 'm_list' is not defined",
     "output_type": "error",
     "traceback": [
      "\u001b[0;31m---------------------------------------------------------------------------\u001b[0m",
      "\u001b[0;31mNameError\u001b[0m                                 Traceback (most recent call last)",
      "\u001b[0;32m/var/folders/j2/fp7w_fyd3sbg73tfmz4s573c0000gn/T/ipykernel_15695/3688244542.py\u001b[0m in \u001b[0;36m<module>\u001b[0;34m\u001b[0m\n\u001b[0;32m----> 1\u001b[0;31m \u001b[0mplt\u001b[0m\u001b[0;34m.\u001b[0m\u001b[0mplot\u001b[0m\u001b[0;34m(\u001b[0m\u001b[0malpha_range\u001b[0m\u001b[0;34m,\u001b[0m \u001b[0mm_list\u001b[0m\u001b[0;34m,\u001b[0m \u001b[0;34m'c--'\u001b[0m\u001b[0;34m,\u001b[0m\u001b[0mmarker\u001b[0m\u001b[0;34m=\u001b[0m\u001b[0;34m'.'\u001b[0m\u001b[0;34m,\u001b[0m \u001b[0mlabel\u001b[0m\u001b[0;34m=\u001b[0m\u001b[0;34m'th m'\u001b[0m\u001b[0;34m)\u001b[0m\u001b[0;34m\u001b[0m\u001b[0;34m\u001b[0m\u001b[0m\n\u001b[0m\u001b[1;32m      2\u001b[0m \u001b[0mplt\u001b[0m\u001b[0;34m.\u001b[0m\u001b[0mplot\u001b[0m\u001b[0;34m(\u001b[0m\u001b[0malpha_range\u001b[0m\u001b[0;34m,\u001b[0m \u001b[0mq_list\u001b[0m\u001b[0;34m,\u001b[0m \u001b[0;34m'r--'\u001b[0m\u001b[0;34m,\u001b[0m \u001b[0mmarker\u001b[0m\u001b[0;34m=\u001b[0m\u001b[0;34m'.'\u001b[0m\u001b[0;34m,\u001b[0m \u001b[0mlabel\u001b[0m\u001b[0;34m=\u001b[0m\u001b[0;34m'th q'\u001b[0m\u001b[0;34m)\u001b[0m\u001b[0;34m\u001b[0m\u001b[0;34m\u001b[0m\u001b[0m\n\u001b[1;32m      3\u001b[0m \u001b[0;34m\u001b[0m\u001b[0m\n\u001b[1;32m      4\u001b[0m \u001b[0;31m# plt.plot(alpha_range, exp_m_list, 'c', marker='.', label='exp m')\u001b[0m\u001b[0;34m\u001b[0m\u001b[0;34m\u001b[0m\u001b[0;34m\u001b[0m\u001b[0m\n\u001b[1;32m      5\u001b[0m \u001b[0;31m# plt.plot(alpha_range, exp_q_list, 'r', marker='.', label='exp q')\u001b[0m\u001b[0;34m\u001b[0m\u001b[0;34m\u001b[0m\u001b[0;34m\u001b[0m\u001b[0m\n",
      "\u001b[0;31mNameError\u001b[0m: name 'm_list' is not defined"
     ]
    }
   ],
   "source": [
    "plt.plot(alpha_range, m_list, 'c--',marker='.', label='th m')\n",
    "plt.plot(alpha_range, q_list, 'r--', marker='.', label='th q')\n",
    "\n",
    "# plt.plot(alpha_range, exp_m_list, 'c', marker='.', label='exp m')\n",
    "# plt.plot(alpha_range, exp_q_list, 'r', marker='.', label='exp q')\n",
    "\n",
    "plt.plot(alpha_range, np.array(m_list) / np.sqrt(np.array(q_list)), 'k', marker='.', label='Angle')\n",
    "\n",
    "plt.title(f'Lambda = {lambda_}, sigma = {sigma}')\n",
    "plt.legend()"
   ]
  },
  {
   "cell_type": "markdown",
   "id": "a9fc52be",
   "metadata": {},
   "source": [
    "### Some plots"
   ]
  },
  {
   "cell_type": "code",
   "execution_count": 7,
   "id": "a8f61b8b",
   "metadata": {},
   "outputs": [
    {
     "data": {
      "image/png": "[encoded data removed]",
      "text/plain": [
       "<Figure size 432x288 with 1 Axes>"
      ]
     },
     "metadata": {
      "needs_background": "light"
     },
     "output_type": "display_data"
    },
    {
     "data": {
      "image/png": "[encoded data removed]",
      "text/plain": [
       "<Figure size 432x288 with 1 Axes>"
      ]
     },
     "metadata": {
      "needs_background": "light"
     },
     "output_type": "display_data"
    }
   ],
   "source": [
    "vals = np.linspace(-10.0, 10.0, 50)\n",
    "\n",
    "def cdf(x):\n",
    "    return 0.5 * erfc(- x / np.sqrt(2.0))\n",
    "\n",
    "def approx_cdf(z):\n",
    "    return 1.0 / (1.0 + 2*np.exp(-np.sqrt(2*np.pi)*z))\n",
    "\n",
    "def logistic(x):\n",
    "    return 1. / (1 + np.exp(-x))\n",
    "\n",
    "def f_0(z):\n",
    "    return - np.log( cdf(z) )\n",
    "\n",
    "def f_1(z):\n",
    "    return np.log(1 + np.exp(-z))\n",
    "\n",
    "plt.plot(vals, cdf(vals), marker='x')\n",
    "plt.plot(vals, norm.cdf(vals), marker='o')\n",
    "plt.plot(vals, logistic(vals))\n",
    "plt.show()\n",
    "\n",
    "plt.plot(vals, f_0(vals))\n",
    "plt.plot(vals, f_1(vals))\n",
    "plt.show()"
   ]
  },
  {
   "cell_type": "code",
   "execution_count": 13,
   "id": "b9147c60",
   "metadata": {},
   "outputs": [
    {
     "name": "stderr",
     "output_type": "stream",
     "text": [
      "/var/folders/bh/679xzk357893hjh_yn8vw93h0000gq/T/ipykernel_61975/3151738842.py:5: RuntimeWarning: divide by zero encountered in true_divide\n",
      "  plt.plot(vals2, norm.pdf(vals2) / cdf(-vals2)); plt.show()\n",
      "/var/folders/bh/679xzk357893hjh_yn8vw93h0000gq/T/ipykernel_61975/3151738842.py:5: RuntimeWarning: invalid value encountered in true_divide\n",
      "  plt.plot(vals2, norm.pdf(vals2) / cdf(-vals2)); plt.show()\n"
     ]
    },
    {
     "data": {
      "image/png": "[encoded data removed]",
      "text/plain": [
       "<Figure size 432x288 with 1 Axes>"
      ]
     },
     "metadata": {
      "needs_background": "light"
     },
     "output_type": "display_data"
    }
   ],
   "source": [
    "def d2loss(z):\n",
    "    return (4*np.cosh(z/2)**2)\n",
    "\n",
    "vals2 = np.linspace(0, 100, 1000)\n",
    "plt.plot(vals2, norm.pdf(vals2) / cdf(-vals2)); plt.show()"
   ]
  },
  {
   "cell_type": "code",
   "execution_count": 64,
   "id": "cb9cc20c",
   "metadata": {},
   "outputs": [
    {
     "name": "stdout",
     "output_type": "stream",
     "text": [
      "nan 4.56986530030502\n"
     ]
    },
    {
     "name": "stderr",
     "output_type": "stream",
     "text": [
      "/var/folders/bh/679xzk357893hjh_yn8vw93h0000gq/T/ipykernel_47466/1727832809.py:14: RuntimeWarning: invalid value encountered in double_scalars\n",
      "  return (x - omega) / V - y * gaussian(x) / cdf(x * y)\n",
      "/var/folders/bh/679xzk357893hjh_yn8vw93h0000gq/T/ipykernel_47466/1727832809.py:17: RuntimeWarning: invalid value encountered in double_scalars\n",
      "  return 1. / V -  y * (- x * gaussian(x) / cdf(x * y) - y * gaussian(x)**2 / cdf(x * y)**2)\n"
     ]
    },
    {
     "data": {
      "image/png": "[encoded data removed]",
      "text/plain": [
       "<Figure size 432x288 with 1 Axes>"
      ]
     },
     "metadata": {
      "needs_background": "light"
     },
     "output_type": "display_data"
    }
   ],
   "source": [
    "def gaussian(x, mean=0, var=1):\n",
    "    return np.exp(-.5 * (x-mean)**2/var) / np.sqrt(2*np.pi*var)\n",
    "\n",
    "def cdf(x):\n",
    "    return 0.5 * erfc(- x / np.sqrt(2.0))\n",
    "\n",
    "def loss(z):\n",
    "    return - np.log( cdf(z) )\n",
    "\n",
    "def moreau_loss(x, y, omega,V):\n",
    "    return (x-omega)**2/(2*V) + loss(y*x)\n",
    "\n",
    "def moreau_prime(x, y, omega, V):\n",
    "        return (x - omega) / V - y * gaussian(x) / cdf(x * y)\n",
    "\n",
    "def moreau_second(x, y, omega, V):\n",
    "    return 1. / V -  y * (- x * gaussian(x) / cdf(x * y) - y * gaussian(x)**2 / cdf(x * y)**2)\n",
    "\n",
    "\n",
    "omega = 100.0\n",
    "V = 20.0\n",
    "y = -1.0\n",
    "\n",
    "root = root_scalar(lambda x : moreau_prime(x, y, omega, V),\n",
    "                         fprime = lambda x : moreau_second(x, y, omega, V),\n",
    "                         x0 = omega).root\n",
    "mini = minimize_scalar(lambda x: moreau_loss(x, y, omega, V))['x']\n",
    "\n",
    "plt.plot(vals, moreau_loss(vals, y, omega, V))\n",
    "\n",
    "print(root, mini)"
   ]
  }
 ],
 "metadata": {
  "kernelspec": {
   "display_name": "Python 3 (ipykernel)",
   "language": "python",
   "name": "python3"
  },
  "language_info": {
   "codemirror_mode": {
    "name": "ipython",
    "version": 3
   },
   "file_extension": ".py",
   "mimetype": "text/x-python",
   "name": "python",
   "nbconvert_exporter": "python",
   "pygments_lexer": "ipython3",
   "version": "3.9.6"
  }
 },
 "nbformat": 4,
 "nbformat_minor": 5
}
