{
 "cells": [
  {
   "cell_type": "markdown",
   "id": "b13ba8e1",
   "metadata": {},
   "source": [
    "# Probit regression\n",
    "\n",
    "Testing probit regression with identity covariance"
   ]
  },
  {
   "cell_type": "code",
   "execution_count": 32,
   "id": "f8088cd3",
   "metadata": {},
   "outputs": [
    {
     "name": "stdout",
     "output_type": "stream",
     "text": [
      "The autoreload extension is already loaded. To reload it, use:\n",
      "  %reload_ext autoreload\n"
     ]
    }
   ],
   "source": [
    "import numpy as np\n",
    "import matplotlib.pyplot as plt\n",
    "import pandas as pd\n",
    "import sys\n",
    "from time import time\n",
    "\n",
    "import cvxpy as cv\n",
    "from statsmodels.discrete.discrete_model import Probit\n",
    "import sklearn.linear_model as linear_model\n",
    "from scipy.special import erfcinv\n",
    "\n",
    "from state_evolution.models.probit_regression import ProbitRegression # logistic regression task\n",
    "from state_evolution.models.logistic_regression import LogisticRegression # logistic regression task\n",
    "from state_evolution.models.bayes_optimal_probit import BayesOptimalProbit\n",
    "from state_evolution.algorithms.state_evolution import StateEvolution # Standard SP iteration\n",
    "from state_evolution.auxiliary.utility import *\n",
    "from state_evolution.data_models.custom import Custom # Custom data model. You input the covariances\n",
    "\n",
    "sys.path.append('../overparametrized-uncertainty/Code/')\n",
    "import core.data as data\n",
    "\n",
    "\n",
    "%load_ext autoreload\n",
    "%autoreload 2"
   ]
  },
  {
   "cell_type": "code",
   "execution_count": 47,
   "id": "916b9e67",
   "metadata": {},
   "outputs": [],
   "source": [
    "d = 512\n",
    "\n",
    "# Covariances\n",
    "\n",
    "Omega = Psi = Phi = np.eye(d)\n",
    "\n",
    "# Teacher weights\n",
    "theta = np.random.multivariate_normal(mean=np.zeros(d), cov=np.eye(d))\n",
    "# NORMALIZE THE TEACHER FOR BETTER RESULTS"
   ]
  },
  {
   "cell_type": "code",
   "execution_count": 61,
   "id": "9eaca135",
   "metadata": {},
   "outputs": [],
   "source": [
    "alpha   = 10.0\n",
    "sigma   = 0.0\n",
    "lambda_ = 0.1\n",
    "\n",
    "w0, X, y = data.ProbitModelData(covariance = Omega, teacher_covariance = np.eye(d), sigma = sigma).sample_instance(alpha)\n",
    "\n",
    "data_model = Custom(teacher_teacher_cov = Psi,\n",
    "                    student_student_cov = Omega,\n",
    "                    teacher_student_cov = Phi,\n",
    "                    teacher_weights     = w0)"
   ]
  },
  {
   "cell_type": "code",
   "execution_count": 62,
   "id": "de5bba53",
   "metadata": {},
   "outputs": [
    {
     "name": "stdout",
     "output_type": "stream",
     "text": [
      "t: 0, diff: 48.41300614885706, self overlaps: 0.5863063245288528, teacher-student overlap: 0.47998635720092453\n",
      "t: 1, diff: 25.357185452009066, self overlaps: 1.204502215472863, teacher-student overlap: 0.8471249898310593\n",
      "t: 2, diff: 13.684662119086617, self overlaps: 1.8506869319685055, teacher-student overlap: 1.1419976483204501\n",
      "t: 3, diff: 7.704675186295692, self overlaps: 2.543137435615174, teacher-student overlap: 1.395440804878592\n",
      "t: 4, diff: 4.684850726723081, self overlaps: 3.3585222454456836, teacher-student overlap: 1.6397715511354467\n",
      "t: 5, diff: 3.285079286124981, self overlaps: 4.420219641249066, teacher-student overlap: 1.9045156363471172\n",
      "t: 6, diff: 2.8310224823979753, self overlaps: 5.885380827873297, teacher-student overlap: 2.212692111141565\n",
      "t: 7, diff: 2.968616623919432, self overlaps: 7.928070042378604, teacher-student overlap: 2.578217245142627\n",
      "t: 8, diff: 3.4827125103224854, self overlaps: 10.70664369318694, teacher-student overlap: 3.0040011811731855\n",
      "t: 9, diff: 4.198032724020924, self overlaps: 14.314131289340674, teacher-student overlap: 3.4814233578210683\n",
      "t: 10, diff: 4.929371653436723, self overlaps: 18.72028825868722, teacher-student overlap: 3.9912596618716747\n",
      "t: 11, diff: 5.566038427138956, self overlaps: 23.724179688706634, teacher-student overlap: 4.5058302647938575\n",
      "t: 12, diff: 5.793960679067449, self overlaps: 28.947623894159747, teacher-student overlap: 4.992671164064185\n",
      "t: 13, diff: 5.478932213300146, self overlaps: 33.89686622758434, teacher-student overlap: 5.419977651075884\n",
      "t: 14, diff: 4.642673366045792, self overlaps: 38.088498142800916, teacher-student overlap: 5.762996926963201\n",
      "t: 15, diff: 3.4509126079373953, self overlaps: 41.1895535445441, teacher-student overlap: 6.00931841224308\n",
      "t: 16, diff: 2.1541141382642524, self overlaps: 43.1007422377443, teacher-student overlap: 6.160785860426285\n",
      "t: 17, diff: 0.9872705084841225, self overlaps: 43.94327712151359, teacher-student overlap: 6.2311008328454776\n",
      "t: 18, diff: 0.0926900836850908, self overlaps: 43.971427449833065, teacher-student overlap: 6.240417561183557\n",
      "t: 19, diff: 0.5682295526991494, self overlaps: 43.47046822936666, teacher-student overlap: 6.209635470214721\n",
      "t: 20, diff: 0.8567879317446698, self overlaps: 42.68694487717869, teacher-student overlap: 6.156553462373425\n",
      "t: 21, diff: 0.9549808611784447, self overlaps: 41.80149523730833, teacher-student overlap: 6.094377081701221\n",
      "t: 22, diff: 0.9352527889561388, self overlaps: 40.930540265428405, teacher-student overlap: 6.031869115075052\n",
      "t: 23, diff: 0.8557626591809631, self overlaps: 40.140036050922916, teacher-student overlap: 5.974227713645509\n",
      "t: 24, diff: 0.7401245439114215, self overlaps: 39.460820481562784, teacher-student overlap: 5.924087836569169\n",
      "t: 25, diff: 0.6131869013794917, self overlaps: 38.90129005663793, teacher-student overlap: 5.882378927675344\n",
      "t: 26, diff: 0.48990493442342586, self overlaps: 38.45657992783589, teacher-student overlap: 5.848972521914412\n",
      "t: 27, diff: 0.3784759423498292, self overlaps: 38.114746834210166, teacher-student overlap: 5.823138491937646\n",
      "t: 28, diff: 0.2826861551803259, self overlaps: 37.86074477762848, teacher-student overlap: 5.80385246327231\n",
      "t: 29, diff: 0.2035512499814831, self overlaps: 37.67888116991477, teacher-student overlap: 5.7899950412254295\n",
      "t: 30, diff: 0.140424045599985, self overlaps: 37.55426237122644, teacher-student overlap: 5.780475108871813\n",
      "t: 31, diff: 0.09172937341811016, self overlaps: 37.47357869552502, teacher-student overlap: 5.774300903024697\n",
      "t: 32, diff: 0.05545024361038431, self overlaps: 37.42545858865958, teacher-student overlap: 5.770615464793258\n",
      "t: 33, diff: 0.029443119962333952, self overlaps: 37.4005473652255, teacher-student overlap: 5.768708432003466\n",
      "t: 34, diff: 0.011637961146855558, self overlaps: 37.39141373851383, teacher-student overlap: 5.768012573497261\n",
      "t: 35, diff: 0.0021995747885803496, self overlaps: 37.39235670193793, teacher-student overlap: 5.768091201873638\n",
      "t: 36, diff: 0.008042603021315875, self overlaps: 37.39916126198479, teacher-student overlap: 5.768620683820541\n",
      "t: 37, diff: 0.010801057321579322, self overlaps: 37.408839019387244, teacher-student overlap: 5.769371186174151\n",
      "t: 38, diff: 0.01149829150796311, self overlaps: 37.41937702482154, teacher-student overlap: 5.770187711467543\n",
      "t: 39, diff: 0.010921333666556787, self overlaps: 37.429510164117914, teacher-student overlap: 5.770972753664644\n",
      "t: 40, diff: 0.009801017829054626, self overlaps: 37.43852353330216, teacher-student overlap: 5.771671164578248\n",
      "t: 41, diff: 0.008285271090730184, self overlaps: 37.44609013994054, teacher-student overlap: 5.77225768990007\n",
      "t: 42, diff: 0.006665219014169388, self overlaps: 37.452140228564716, teacher-student overlap: 5.7727269174453415\n",
      "t: 43, diff: 0.005123479869598935, self overlaps: 37.456763583837386, teacher-student overlap: 5.773085753200088\n",
      "t: 44, diff: 0.0037615740015857213, self overlaps: 37.46013686811784, teacher-student overlap: 5.773347820604316\n",
      "t: 45, diff: 0.002624164137053242, self overlaps: 37.46247301485359, teacher-student overlap: 5.773529556604355\n",
      "t: 46, diff: 0.0017186572582152948, self overlaps: 37.46398837077972, teacher-student overlap: 5.773647674101738\n",
      "t: 47, diff: 0.0010294851724661491, self overlaps: 37.46488268438546, teacher-student overlap: 5.773717614309804\n",
      "t: 48, diff: 0.0005286359180796119, self overlaps: 37.46532851958105, teacher-student overlap: 5.773752726304962\n",
      "t: 49, diff: 0.00018329412250261967, self overlaps: 37.465467470357574, teacher-student overlap: 5.773763971431503\n",
      "t: 50, diff: 8.255065845741427e-05, self overlaps: 37.46541047244347, teacher-student overlap: 5.773759944803104\n",
      "t: 51, diff: 0.00019532310627701222, self overlaps: 37.465240745544556, teacher-student overlap: 5.773747100250267\n",
      "t: 52, diff: 0.0002464656109042451, self overlaps: 37.465017730633384, teacher-student overlap: 5.7737300529221525\n",
      "t: 53, diff: 0.0002562619511083941, self overlaps: 37.464781641970234, teacher-student overlap: 5.773711930006424\n",
      "t: 54, diff: 0.00024199288445125866, self overlaps: 37.46455762347746, teacher-student overlap: 5.773694691396031\n",
      "t: 55, diff: 0.00021580256909992102, self overlaps: 37.46435944398139, teacher-student overlap: 5.773679415102761\n",
      "t: 56, diff: 0.00018157603381485643, self overlaps: 37.464193772602115, teacher-student overlap: 5.773666627320538\n",
      "t: 57, diff: 0.00014578306765944404, self overlaps: 37.464061525020384, teacher-student overlap: 5.773656407400843\n",
      "t: 58, diff: 0.0001121961948662431, self overlaps: 37.46396031403541, teacher-student overlap: 5.773648577115738\n",
      "t: 59, diff: 8.243607639890627e-05, self overlaps: 37.46388639704762, teacher-student overlap: 5.773642851638143\n",
      "t: 60, diff: 5.773642315731742e-05, self overlaps: 37.46383498926692, teacher-student overlap: 5.7736388642695315\n",
      "t: 61, diff: 3.8038777066207174e-05, self overlaps: 37.46380143064489, teacher-student overlap: 5.773636256694591\n",
      "t: 62, diff: 2.3016702882294737e-05, self overlaps: 37.46378140741775, teacher-student overlap: 5.773634696600141\n",
      "t: 63, diff: 1.2049493496313346e-05, self overlaps: 37.46377120636738, teacher-student overlap: 5.773633897551688\n",
      "t: 64, diff: 4.505352975581189e-06, self overlaps: 37.46376771016001, teacher-student overlap: 5.773633618761243\n",
      "t: 65, diff: 1.1866279454597617e-06, self overlaps: 37.46376837322106, teacher-student overlap: 5.773633663533794\n",
      "t: 66, diff: 3.924682860700912e-06, self overlaps: 37.463771754024236, teacher-student overlap: 5.773633919958344\n",
      "t: 67, diff: 5.016530502555128e-06, self overlaps: 37.46377627629031, teacher-student overlap: 5.773634266134831\n",
      "t: 68, diff: 5.258475055391898e-06, self overlaps: 37.463781110331155, teacher-student overlap: 5.773634637611271\n",
      "t: 69, diff: 5.0717523407683984e-06, self overlaps: 37.463785810969014, teacher-student overlap: 5.773634999543431\n",
      "t: 70, diff: 4.5048011010351274e-06, self overlaps: 37.46378995150741, teacher-student overlap: 5.773635318928358\n",
      "t: 71, diff: 3.8095325207709863e-06, self overlaps: 37.46379342921948, teacher-student overlap: 5.773635587432807\n",
      "t: 72, diff: 3.0855719324041075e-06, self overlaps: 37.463796230517204, teacher-student overlap: 5.773635804041399\n",
      "t: 73, diff: 2.449327606512952e-06, self overlaps: 37.46379844285684, teacher-student overlap: 5.7736359752104915\n"
     ]
    },
    {
     "name": "stdout",
     "output_type": "stream",
     "text": [
      "t: 74, diff: 1.7987820166709412e-06, self overlaps: 37.46380005755182, teacher-student overlap: 5.773636100308581\n",
      "t: 75, diff: 1.2776806586067835e-06, self overlaps: 37.46380119696762, teacher-student overlap: 5.773636188704636\n",
      "t: 76, diff: 8.105966669003095e-07, self overlaps: 37.46380191159042, teacher-student overlap: 5.773636244235979\n",
      "t: 77, diff: 5.144091554942776e-07, self overlaps: 37.4638023604346, teacher-student overlap: 5.773636279228788\n",
      "t: 78, diff: 2.6369738082010485e-07, self overlaps: 37.46380258364848, teacher-student overlap: 5.773636296671391\n",
      "t: 79, diff: 1.3093063255809056e-07, self overlaps: 37.46380269064642, teacher-student overlap: 5.773636305185126\n",
      "t: 80, diff: 8.696456976764466e-08, self overlaps: 37.46380261953405, teacher-student overlap: 5.773636299849108\n",
      "Saddle point equations converged with t=81 iterations\n"
     ]
    }
   ],
   "source": [
    "task = ProbitRegression(sample_complexity = alpha,\n",
    "                        regularisation    = lambda_,\n",
    "                        data_model        = data_model,\n",
    "                        Delta             = sigma**2)\n",
    "\n",
    "sp = StateEvolution(model = task,\n",
    "                    initialisation = 'uninformed',\n",
    "                    tolerance = 1e-7,\n",
    "                    damping = 0.5,\n",
    "                    verbose = True,\n",
    "                    max_steps = 1000)\n",
    "\n",
    "sp.iterate()"
   ]
  },
  {
   "cell_type": "code",
   "execution_count": 63,
   "id": "518804d3",
   "metadata": {},
   "outputs": [],
   "source": [
    "# empirical probit \n",
    "\n",
    "w = cv.Variable(d)\n",
    "error = - cv.sum(cv.log_normcdf( cv.multiply(y, X @ w))) + lambda_ / 2 * cv.sum_squares(w)\n",
    "obj = cv.Minimize(error)\n",
    "prob = cv.Problem(obj)\n",
    "prob.solve()\n",
    "\n",
    "weight = w.value"
   ]
  },
  {
   "cell_type": "code",
   "execution_count": 64,
   "id": "36fe9e19",
   "metadata": {},
   "outputs": [
    {
     "name": "stdout",
     "output_type": "stream",
     "text": [
      "For PROBIT : \n",
      "Info of state evolution :  {'hyperparameters': {'initialisation': 'uninformed', 'damping': 0.5, 'max_steps': 1000, 'tolerance': 1e-07}, 'status': 1, 'convergence_time': 81, 'test_error': 0.04543069965298843, 'overlaps': {'variance': 1.8080613494533697, 'self_overlap': 37.46380269064642, 'teacher_student': 5.773636305185126}, 'test_loss': 0.1289893420935478, 'train_loss': 0.04089717070989968, 'calibration': -1.0}\n",
      "theory : q =  37.46380269064642 , m =  5.773636305185126\n",
      "experiment : q = 10.90211054369019, m = 3.1089437085460645\n",
      "theoretical angle :  0.9432862294342347\n",
      "experimental angle :  0.9880424582172654\n"
     ]
    }
   ],
   "source": [
    "print('For PROBIT : ')\n",
    "\n",
    "info = sp.get_info()\n",
    "print('Info of state evolution : ', info)\n",
    "print('theory : q = ', info['overlaps']['self_overlap'],', m = ', info['overlaps']['teacher_student'])\n",
    "\n",
    "exp_q   = np.mean(weight * weight)\n",
    "exp_m   = np.mean(weight * w0)\n",
    "exp_rho = np.mean(w0 * w0)\n",
    "print(f'experiment : q = {exp_q}, m = {exp_m}')\n",
    "print('theoretical angle : ', info['overlaps']['teacher_student'] / (np.sqrt(info['overlaps']['self_overlap'])))\n",
    "print('experimental angle : ', exp_m / np.sqrt(exp_q * exp_rho))"
   ]
  },
  {
   "cell_type": "code",
   "execution_count": 65,
   "id": "3a47533b",
   "metadata": {},
   "outputs": [
    {
     "data": {
      "text/plain": [
       "LogisticRegression(C=10.0, fit_intercept=False)"
      ]
     },
     "execution_count": 65,
     "metadata": {},
     "output_type": "execute_result"
    }
   ],
   "source": [
    "lr_lambda_ = lambda_\n",
    "\n",
    "lr_task = LogisticRegression(sample_complexity = alpha,\n",
    "                        regularisation    = lr_lambda_,\n",
    "                        data_model        = data_model,\n",
    "                        Delta             = sigma**2)\n",
    "\n",
    "lr_sp = StateEvolution(model = lr_task,\n",
    "                    initialisation = 'uninformed',\n",
    "                    tolerance = 1e-7,\n",
    "                    damping = 0.5,\n",
    "                    verbose = False,\n",
    "                    max_steps = 1000)\n",
    "lr_sp.iterate()\n",
    "\n",
    "if lr_lambda_ > 0.0:\n",
    "    lr = linear_model.LogisticRegression('l2', C=1. / lr_lambda_, fit_intercept=False)\n",
    "else:\n",
    "    lr = linear_model.LogisticRegression('none', fit_intercept=False)\n",
    "lr.fit(X, y)"
   ]
  },
  {
   "cell_type": "code",
   "execution_count": 66,
   "id": "01b5812d",
   "metadata": {},
   "outputs": [
    {
     "name": "stdout",
     "output_type": "stream",
     "text": [
      "====\n",
      "For LOGISTIC\n",
      "theory : q =  14.35227448715674 , m =  3.5518005784561923\n",
      "experiment : q = 14.456916085441291, m = 3.5707769019455364\n",
      "theoretical angle :  0.937536550080261\n",
      "experimental angle :  0.9391282109288417\n"
     ]
    }
   ],
   "source": [
    "print('====')\n",
    "print('For LOGISTIC')\n",
    "\n",
    "lr_info = lr_sp.get_info()\n",
    "print('theory : q = ', lr_info['overlaps']['self_overlap'],', m = ', lr_info['overlaps']['teacher_student'])\n",
    "exp_q = np.mean(lr.coef_ * lr.coef_)\n",
    "exp_m = np.mean(w0 * lr.coef_)\n",
    "print(f'experiment : q = {exp_q}, m = {exp_m}')\n",
    "\n",
    "print('theoretical angle : ', lr_info['overlaps']['teacher_student'] / (np.sqrt(lr_info['overlaps']['self_overlap'])))\n",
    "print('experimental angle : ', exp_m / np.sqrt(exp_q))"
   ]
  },
  {
   "cell_type": "markdown",
   "id": "4d11a16c",
   "metadata": {},
   "source": [
    "### Running as a function of alpha \n",
    "\n",
    "Fix the level, compute the calibration"
   ]
  },
  {
   "cell_type": "code",
   "execution_count": 111,
   "id": "b4c283f9",
   "metadata": {
    "collapsed": true
   },
   "outputs": [
    {
     "name": "stdout",
     "output_type": "stream",
     "text": [
      "10.0\n"
     ]
    },
    {
     "name": "stderr",
     "output_type": "stream",
     "text": [
      "/Users/clarte/Code/GCMProject/state_evolution/auxiliary/probit_integrals.py:19: RuntimeWarning: divide by zero encountered in log\n",
      "  return - np.log(cdf(z))\n",
      "/Users/clarte/anaconda3/envs/ml/lib/python3.9/site-packages/scipy/optimize/optimize.py:2215: RuntimeWarning: invalid value encountered in double_scalars\n",
      "  tmp2 = (x - v) * (fx - fw)\n"
     ]
    },
    {
     "name": "stdout",
     "output_type": "stream",
     "text": [
      "m = 17.518558000798812, q = 400.12780941277646, angle = 0.8757879937783819\n",
      "Calibration :  0.5169466114737635\n",
      "62.10526315789474\n",
      "m = 25.69406499603228, q = 926.9960777430069, angle = 0.8439056025270398\n",
      "Calibration :  0.5101688884941326\n",
      "114.21052631578948\n",
      "m = 12.241209751920792, q = 185.75250146079594, angle = 0.898166813298956\n",
      "Calibration :  0.5266137143411115\n",
      "166.31578947368422\n",
      "m = 13.293050220515795, q = 222.17264582920268, angle = 0.8918244034242699\n",
      "Calibration :  0.5238628342759093\n",
      "218.42105263157896\n",
      "m = 13.91934623398257, q = 245.55495903203476, angle = 0.8882689536710787\n",
      "Calibration :  0.522453592682079\n",
      "270.5263157894737\n",
      "m = 14.334356468900083, q = 261.7511041068463, angle = 0.8860004433976055\n",
      "Calibration :  0.5215990567476354\n",
      "322.63157894736844\n",
      "m = 14.629415699392823, q = 273.6076541722445, angle = 0.8844287657041191\n",
      "Calibration :  0.521026134998451\n",
      "374.7368421052632\n",
      "m = 14.849906418894726, q = 282.6535536167364, angle = 0.8832761255464706\n",
      "Calibration :  0.520615505769896\n",
      "426.8421052631579\n",
      "m = 15.020902815248562, q = 289.77848250463796, angle = 0.8823948594001048\n",
      "Calibration :  0.520306842111611\n",
      "478.94736842105266\n",
      "m = 15.157377345799034, q = 295.53376867430956, angle = 0.881699321517898\n",
      "Calibration :  0.5200663953332256\n",
      "531.0526315789474\n",
      "m = 15.26882083462943, q = 300.27880111618157, angle = 0.8811364406181473\n",
      "Calibration :  0.5198738178853824\n",
      "583.1578947368421\n",
      "m = 15.36153753514103, q = 304.25756984459736, angle = 0.8806715977717622\n",
      "Calibration :  0.519716119542834\n",
      "635.2631578947369\n",
      "m = 15.439880528320376, q = 307.64153716969037, angle = 0.8802812452896558\n",
      "Calibration :  0.5195846161449851\n",
      "687.3684210526317\n",
      "m = 15.506950974665536, q = 310.5546295615202, angle = 0.8799488133253923\n",
      "Calibration :  0.5194732843398602\n",
      "739.4736842105264\n",
      "m = 15.56501741445212, q = 313.0885994868531, angle = 0.8796623087139068\n",
      "Calibration :  0.5193778162888122\n",
      "791.578947368421\n",
      "m = 15.615778909633192, q = 315.3128777811383, angle = 0.8794128301311899\n",
      "Calibration :  0.5192950474769422\n",
      "843.6842105263158\n",
      "m = 15.660531530090777, q = 317.2808935641636, angle = 0.8791936409700105\n",
      "Calibration :  0.5192226037935481\n",
      "895.7894736842106\n",
      "m = 15.700283011823025, q = 319.0345128573116, angle = 0.8789995392859477\n",
      "Calibration :  0.5191586662449136\n",
      "947.8947368421053\n",
      "m = 15.735826964712846, q = 320.606926110771, angle = 0.878826453675818\n",
      "Calibration :  0.5191018205390671\n",
      "1000.0\n",
      "m = 15.767797556414223, q = 322.02481495294836, angle = 0.8786711470738493\n",
      "Calibration :  0.5190509492697514\n"
     ]
    }
   ],
   "source": [
    "p = 0.75\n",
    "inv_p = - np.sqrt(2) * erfcinv(2 * p)\n",
    "\n",
    "alpha_range  = np.linspace(10.0, 1000.0, 20)\n",
    "calibrations = []\n",
    "\n",
    "for alpha in alpha_range:\n",
    "    print(alpha)\n",
    "    task = ProbitRegression(sample_complexity = alpha,\n",
    "                            regularisation    = 0.0,\n",
    "                            data_model        = data_model,\n",
    "                            Delta             = sigma**2)\n",
    "\n",
    "    sp = StateEvolution(model = task,\n",
    "                        initialisation = 'uninformed',\n",
    "                        tolerance = 1e-7,\n",
    "                        damping = 0.5,\n",
    "                        verbose = False,\n",
    "                        max_steps = 1000)\n",
    "\n",
    "    sp.iterate()\n",
    "    info = sp.get_info()\n",
    "    \n",
    "    m, q, rho = info['overlaps']['teacher_student'], info['overlaps']['self_overlap'], 1.0\n",
    "    print(f'm = {m}, q = {q}, angle = {m / np.sqrt(q)}')\n",
    "    calibrations.append(\n",
    "         0.5 * erfc(- (m / q * inv_p) / np.sqrt(2*(rho - m**2 / q + sigma**2)))\n",
    "    )\n",
    "    print('Calibration : ', calibrations[-1])"
   ]
  },
  {
   "cell_type": "markdown",
   "id": "a9fc52be",
   "metadata": {},
   "source": [
    "### Some plots"
   ]
  },
  {
   "cell_type": "code",
   "execution_count": 13,
   "id": "a8f61b8b",
   "metadata": {},
   "outputs": [
    {
     "data": {
      "image/png": "[encoded data removed]",
      "text/plain": [
       "<Figure size 432x288 with 1 Axes>"
      ]
     },
     "metadata": {
      "needs_background": "light"
     },
     "output_type": "display_data"
    },
    {
     "data": {
      "image/png": "[encoded data removed]",
      "text/plain": [
       "<Figure size 432x288 with 1 Axes>"
      ]
     },
     "metadata": {
      "needs_background": "light"
     },
     "output_type": "display_data"
    }
   ],
   "source": [
    "vals = np.linspace(-10.0, 10.0, 50)\n",
    "\n",
    "def cdf(x):\n",
    "    return 0.5 * erfc(- x / np.sqrt(2.0))\n",
    "\n",
    "def approx_cdf(z):\n",
    "    return 1.0 / (1.0 + 2*np.exp(-np.sqrt(2*np.pi)*z))\n",
    "\n",
    "def logistic(x):\n",
    "    return 1. / (1 + np.exp(-x))\n",
    "\n",
    "def f_0(z):\n",
    "    return np.log(1.0 + 2*np.exp(-np.sqrt(2*np.pi)*z))\n",
    "\n",
    "def f_1(z):\n",
    "    return np.log(1 + np.exp(-z))\n",
    "\n",
    "plt.plot(vals, cdf(vals))\n",
    "plt.plot(vals, logistic(vals))\n",
    "plt.show()\n",
    "\n",
    "plt.plot(vals, f_0(vals))\n",
    "plt.plot(vals, f_1(vals))\n",
    "plt.show()"
   ]
  },
  {
   "cell_type": "code",
   "execution_count": 64,
   "id": "cb9cc20c",
   "metadata": {},
   "outputs": [
    {
     "name": "stdout",
     "output_type": "stream",
     "text": [
      "nan 4.56986530030502\n"
     ]
    },
    {
     "name": "stderr",
     "output_type": "stream",
     "text": [
      "/var/folders/bh/679xzk357893hjh_yn8vw93h0000gq/T/ipykernel_47466/1727832809.py:14: RuntimeWarning: invalid value encountered in double_scalars\n",
      "  return (x - omega) / V - y * gaussian(x) / cdf(x * y)\n",
      "/var/folders/bh/679xzk357893hjh_yn8vw93h0000gq/T/ipykernel_47466/1727832809.py:17: RuntimeWarning: invalid value encountered in double_scalars\n",
      "  return 1. / V -  y * (- x * gaussian(x) / cdf(x * y) - y * gaussian(x)**2 / cdf(x * y)**2)\n"
     ]
    },
    {
     "data": {
      "image/png": "[encoded data removed]",
      "text/plain": [
       "<Figure size 432x288 with 1 Axes>"
      ]
     },
     "metadata": {
      "needs_background": "light"
     },
     "output_type": "display_data"
    }
   ],
   "source": [
    "def gaussian(x, mean=0, var=1):\n",
    "    return np.exp(-.5 * (x-mean)**2/var) / np.sqrt(2*np.pi*var)\n",
    "\n",
    "def cdf(x):\n",
    "    return 0.5 * erfc(- x / np.sqrt(2.0))\n",
    "\n",
    "def loss(z):\n",
    "    return - np.log( cdf(z) )\n",
    "\n",
    "def moreau_loss(x, y, omega,V):\n",
    "    return (x-omega)**2/(2*V) + loss(y*x)\n",
    "\n",
    "def moreau_prime(x, y, omega, V):\n",
    "        return (x - omega) / V - y * gaussian(x) / cdf(x * y)\n",
    "\n",
    "def moreau_second(x, y, omega, V):\n",
    "    return 1. / V -  y * (- x * gaussian(x) / cdf(x * y) - y * gaussian(x)**2 / cdf(x * y)**2)\n",
    "\n",
    "\n",
    "omega = 100.0\n",
    "V = 20.0\n",
    "y = -1.0\n",
    "\n",
    "root = root_scalar(lambda x : moreau_prime(x, y, omega, V),\n",
    "                         fprime = lambda x : moreau_second(x, y, omega, V),\n",
    "                         x0 = omega).root\n",
    "mini = minimize_scalar(lambda x: moreau_loss(x, y, omega, V))['x']\n",
    "\n",
    "plt.plot(vals, moreau_loss(vals, y, omega, V))\n",
    "\n",
    "print(root, mini)"
   ]
  }
 ],
 "metadata": {
  "kernelspec": {
   "display_name": "Python 3 (ipykernel)",
   "language": "python",
   "name": "python3"
  },
  "language_info": {
   "codemirror_mode": {
    "name": "ipython",
    "version": 3
   },
   "file_extension": ".py",
   "mimetype": "text/x-python",
   "name": "python",
   "nbconvert_exporter": "python",
   "pygments_lexer": "ipython3",
   "version": "3.9.7"
  }
 },
 "nbformat": 4,
 "nbformat_minor": 5
}
