{
 "cells": [
  {
   "cell_type": "markdown",
   "id": "b13ba8e1",
   "metadata": {},
   "source": [
    "# Probit regression\n",
    "\n",
    "Testing probit regression with identity covariance"
   ]
  },
  {
   "cell_type": "code",
   "execution_count": 2,
   "id": "f8088cd3",
   "metadata": {},
   "outputs": [],
   "source": [
    "import numpy as np\n",
    "import matplotlib.pyplot as plt\n",
    "import pandas as pd\n",
    "import sys\n",
    "from time import time\n",
    "\n",
    "import cvxpy as cv\n",
    "from statsmodels.discrete.discrete_model import Probit\n",
    "import sklearn.linear_model as linear_model\n",
    "from scipy.special import erfcinv\n",
    "\n",
    "from state_evolution.models.probit_regression import ProbitRegression # logistic regression task\n",
    "from state_evolution.models.logistic_regression import LogisticRegression # logistic regression task\n",
    "from state_evolution.models.bayes_optimal_probit import BayesOptimalProbit\n",
    "from state_evolution.algorithms.state_evolution import StateEvolution # Standard SP iteration\n",
    "from state_evolution.auxiliary.utility import *\n",
    "from state_evolution.data_models.custom import Custom # Custom data model. You input the covariances\n",
    "\n",
    "sys.path.append('/Users/lucasclarte/Code/EPFL/overparametrization-uncertainty/Code')\n",
    "import core.data as data\n",
    "\n",
    "%load_ext autoreload\n",
    "%autoreload 2"
   ]
  },
  {
   "cell_type": "code",
   "execution_count": 3,
   "id": "916b9e67",
   "metadata": {},
   "outputs": [],
   "source": [
    "d = 512\n",
    "\n",
    "# Covariances\n",
    "\n",
    "Omega = Psi = Phi = np.eye(d)\n",
    "\n",
    "# Teacher weights\n",
    "theta = np.random.multivariate_normal(mean=np.zeros(d), cov=np.eye(d))\n",
    "# NORMALIZE THE TEACHER FOR BETTER RESULTS\n",
    "theta = np.sqrt(d) * theta / np.linalg.norm(theta)"
   ]
  },
  {
   "cell_type": "code",
   "execution_count": 45,
   "id": "9eaca135",
   "metadata": {},
   "outputs": [],
   "source": [
    "alpha   = 10.0\n",
    "sigma   = 0.1\n",
    "lambda_ = 0.0\n",
    "\n",
    "w0, X, y = data.ProbitModelData(covariance = Omega, teacher_covariance = np.eye(d), sigma = sigma).sample_instance(alpha)\n",
    "y_probit = (y + 1) / 2.0\n",
    "\n",
    "data_model = Custom(teacher_teacher_cov = Psi,\n",
    "                    student_student_cov = Omega,\n",
    "                    teacher_student_cov = Phi,\n",
    "                    teacher_weights     = theta)"
   ]
  },
  {
   "cell_type": "code",
   "execution_count": 46,
   "id": "de5bba53",
   "metadata": {},
   "outputs": [],
   "source": [
    "task = ProbitRegression(sample_complexity = alpha,\n",
    "                        regularisation    = lambda_,\n",
    "                        data_model        = data_model,\n",
    "                        Delta             = sigma**2)\n",
    "\n",
    "sp = StateEvolution(model = task,\n",
    "                    initialisation = 'uninformed',\n",
    "                    tolerance = 1e-7,\n",
    "                    damping = 0.5,\n",
    "                    verbose = False,\n",
    "                    max_steps = 1000)\n",
    "\n",
    "sp.iterate()"
   ]
  },
  {
   "cell_type": "code",
   "execution_count": 47,
   "id": "518804d3",
   "metadata": {},
   "outputs": [],
   "source": [
    "# empirical probit \n",
    "\n",
    "w = cv.Variable(d)\n",
    "error = - cv.sum(cv.log_normcdf( cv.multiply(y, X @ w))) + lambda_ * cv.sum_squares(w)\n",
    "obj = cv.Minimize(error)\n",
    "prob = cv.Problem(obj)\n",
    "prob.solve()\n",
    "\n",
    "weight = w.value"
   ]
  },
  {
   "cell_type": "code",
   "execution_count": 48,
   "id": "36fe9e19",
   "metadata": {},
   "outputs": [
    {
     "name": "stdout",
     "output_type": "stream",
     "text": [
      "For PROBIT : \n",
      "theory : q =  139.02155898221446 , m =  11.623238324212464\n",
      "experiment : q = 22382.134231876356, m = 148.06233895616586\n",
      "theoretical angle :  0.9857937617292184\n",
      "experimental angle :  0.9799076839544162\n"
     ]
    }
   ],
   "source": [
    "print('For PROBIT : ')\n",
    "\n",
    "info = sp.get_info()\n",
    "print('theory : q = ', info['overlaps']['self_overlap'],', m = ', info['overlaps']['teacher_student'])\n",
    "\n",
    "exp_q   = np.mean(weight * weight)\n",
    "exp_m   = np.mean(weight * w0)\n",
    "exp_rho = np.mean(w0 * w0)\n",
    "print(f'experiment : q = {exp_q}, m = {exp_m}')\n",
    "print('theoretical angle : ', info['overlaps']['teacher_student'] / (np.sqrt(info['overlaps']['self_overlap'])))\n",
    "print('experimental angle : ', exp_m / np.sqrt(exp_q * exp_rho))"
   ]
  },
  {
   "cell_type": "code",
   "execution_count": 49,
   "id": "3a47533b",
   "metadata": {},
   "outputs": [
    {
     "data": {
      "text/plain": [
       "LogisticRegression(fit_intercept=False, penalty='none')"
      ]
     },
     "execution_count": 49,
     "metadata": {},
     "output_type": "execute_result"
    }
   ],
   "source": [
    "lr_lambda_ = lambda_\n",
    "\n",
    "lr_task = LogisticRegression(sample_complexity = alpha,\n",
    "                        regularisation    = lr_lambda_,\n",
    "                        data_model        = data_model,\n",
    "                        Delta             = sigma**2)\n",
    "\n",
    "lr_sp = StateEvolution(model = lr_task,\n",
    "                    initialisation = 'uninformed',\n",
    "                    tolerance = 1e-7,\n",
    "                    damping = 0.5,\n",
    "                    verbose = False,\n",
    "                    max_steps = 1000)\n",
    "lr_sp.iterate()\n",
    "\n",
    "if lr_lambda_ > 0.0:\n",
    "    lr = linear_model.LogisticRegression('l2', C=1. / lr_lambda_, fit_intercept=False)\n",
    "else:\n",
    "    lr = linear_model.LogisticRegression('none', fit_intercept=False)\n",
    "lr.fit(X, y)"
   ]
  },
  {
   "cell_type": "code",
   "execution_count": 50,
   "id": "01b5812d",
   "metadata": {},
   "outputs": [
    {
     "name": "stdout",
     "output_type": "stream",
     "text": [
      "====\n",
      "For LOGISTIC\n",
      "theory : q =  992.8649713556229 , m =  31.012600696364714\n",
      "experiment : q = 38094.74338513655, m = 194.3425033691768\n",
      "theoretical angle :  0.9842220555569053\n",
      "experimental angle :  0.9957154971501413\n"
     ]
    }
   ],
   "source": [
    "print('====')\n",
    "print('For LOGISTIC')\n",
    "\n",
    "lr_info = lr_sp.get_info()\n",
    "print('theory : q = ', lr_info['overlaps']['self_overlap'],', m = ', lr_info['overlaps']['teacher_student'])\n",
    "exp_q = np.mean(lr.coef_ * lr.coef_)\n",
    "exp_m = np.mean(w0 * lr.coef_)\n",
    "print(f'experiment : q = {exp_q}, m = {exp_m}')\n",
    "\n",
    "print('theoretical angle : ', lr_info['overlaps']['teacher_student'] / (np.sqrt(lr_info['overlaps']['self_overlap'])))\n",
    "print('experimental angle : ', exp_m / np.sqrt(exp_q))"
   ]
  },
  {
   "cell_type": "markdown",
   "id": "4d11a16c",
   "metadata": {},
   "source": [
    "### Running as a function of alpha \n",
    "\n",
    "Fix the level, compute the calibration"
   ]
  },
  {
   "cell_type": "code",
   "execution_count": 111,
   "id": "b4c283f9",
   "metadata": {},
   "outputs": [
    {
     "name": "stdout",
     "output_type": "stream",
     "text": [
      "10.0\n"
     ]
    },
    {
     "name": "stderr",
     "output_type": "stream",
     "text": [
      "/Users/clarte/Code/GCMProject/state_evolution/auxiliary/probit_integrals.py:19: RuntimeWarning: divide by zero encountered in log\n",
      "  return - np.log(cdf(z))\n",
      "/Users/clarte/anaconda3/envs/ml/lib/python3.9/site-packages/scipy/optimize/optimize.py:2215: RuntimeWarning: invalid value encountered in double_scalars\n",
      "  tmp2 = (x - v) * (fx - fw)\n"
     ]
    },
    {
     "name": "stdout",
     "output_type": "stream",
     "text": [
      "m = 17.518558000798812, q = 400.12780941277646, angle = 0.8757879937783819\n",
      "Calibration :  0.5169466114737635\n",
      "62.10526315789474\n",
      "m = 25.69406499603228, q = 926.9960777430069, angle = 0.8439056025270398\n",
      "Calibration :  0.5101688884941326\n",
      "114.21052631578948\n",
      "m = 12.241209751920792, q = 185.75250146079594, angle = 0.898166813298956\n",
      "Calibration :  0.5266137143411115\n",
      "166.31578947368422\n",
      "m = 13.293050220515795, q = 222.17264582920268, angle = 0.8918244034242699\n",
      "Calibration :  0.5238628342759093\n",
      "218.42105263157896\n",
      "m = 13.91934623398257, q = 245.55495903203476, angle = 0.8882689536710787\n",
      "Calibration :  0.522453592682079\n",
      "270.5263157894737\n",
      "m = 14.334356468900083, q = 261.7511041068463, angle = 0.8860004433976055\n",
      "Calibration :  0.5215990567476354\n",
      "322.63157894736844\n",
      "m = 14.629415699392823, q = 273.6076541722445, angle = 0.8844287657041191\n",
      "Calibration :  0.521026134998451\n",
      "374.7368421052632\n",
      "m = 14.849906418894726, q = 282.6535536167364, angle = 0.8832761255464706\n",
      "Calibration :  0.520615505769896\n",
      "426.8421052631579\n",
      "m = 15.020902815248562, q = 289.77848250463796, angle = 0.8823948594001048\n",
      "Calibration :  0.520306842111611\n",
      "478.94736842105266\n",
      "m = 15.157377345799034, q = 295.53376867430956, angle = 0.881699321517898\n",
      "Calibration :  0.5200663953332256\n",
      "531.0526315789474\n",
      "m = 15.26882083462943, q = 300.27880111618157, angle = 0.8811364406181473\n",
      "Calibration :  0.5198738178853824\n",
      "583.1578947368421\n",
      "m = 15.36153753514103, q = 304.25756984459736, angle = 0.8806715977717622\n",
      "Calibration :  0.519716119542834\n",
      "635.2631578947369\n",
      "m = 15.439880528320376, q = 307.64153716969037, angle = 0.8802812452896558\n",
      "Calibration :  0.5195846161449851\n",
      "687.3684210526317\n",
      "m = 15.506950974665536, q = 310.5546295615202, angle = 0.8799488133253923\n",
      "Calibration :  0.5194732843398602\n",
      "739.4736842105264\n",
      "m = 15.56501741445212, q = 313.0885994868531, angle = 0.8796623087139068\n",
      "Calibration :  0.5193778162888122\n",
      "791.578947368421\n",
      "m = 15.615778909633192, q = 315.3128777811383, angle = 0.8794128301311899\n",
      "Calibration :  0.5192950474769422\n",
      "843.6842105263158\n",
      "m = 15.660531530090777, q = 317.2808935641636, angle = 0.8791936409700105\n",
      "Calibration :  0.5192226037935481\n",
      "895.7894736842106\n",
      "m = 15.700283011823025, q = 319.0345128573116, angle = 0.8789995392859477\n",
      "Calibration :  0.5191586662449136\n",
      "947.8947368421053\n",
      "m = 15.735826964712846, q = 320.606926110771, angle = 0.878826453675818\n",
      "Calibration :  0.5191018205390671\n",
      "1000.0\n",
      "m = 15.767797556414223, q = 322.02481495294836, angle = 0.8786711470738493\n",
      "Calibration :  0.5190509492697514\n"
     ]
    }
   ],
   "source": [
    "p = 0.75\n",
    "inv_p = - np.sqrt(2) * erfcinv(2 * p)\n",
    "\n",
    "alpha_range  = np.linspace(10.0, 1000.0, 20)\n",
    "calibrations = []\n",
    "\n",
    "for alpha in alpha_range:\n",
    "    print(alpha)\n",
    "    task = ProbitRegression(sample_complexity = alpha,\n",
    "                            regularisation    = 0.0,\n",
    "                            data_model        = data_model,\n",
    "                            Delta             = sigma**2)\n",
    "\n",
    "    sp = StateEvolution(model = task,\n",
    "                        initialisation = 'uninformed',\n",
    "                        tolerance = 1e-7,\n",
    "                        damping = 0.5,\n",
    "                        verbose = False,\n",
    "                        max_steps = 1000)\n",
    "\n",
    "    sp.iterate()\n",
    "    info = sp.get_info()\n",
    "    \n",
    "    m, q, rho = info['overlaps']['teacher_student'], info['overlaps']['self_overlap'], 1.0\n",
    "    print(f'm = {m}, q = {q}, angle = {m / np.sqrt(q)}')\n",
    "    calibrations.append(\n",
    "         0.5 * erfc(- (m / q * inv_p) / np.sqrt(2*(rho - m**2 / q + sigma**2)))\n",
    "    )\n",
    "    print('Calibration : ', calibrations[-1])"
   ]
  },
  {
   "cell_type": "markdown",
   "id": "a9fc52be",
   "metadata": {},
   "source": [
    "### Some plots"
   ]
  },
  {
   "cell_type": "code",
   "execution_count": 34,
   "id": "a8f61b8b",
   "metadata": {},
   "outputs": [
    {
     "data": {
      "image/png": "[encoded data removed]",
      "text/plain": [
       "<Figure size 432x288 with 1 Axes>"
      ]
     },
     "metadata": {
      "needs_background": "light"
     },
     "output_type": "display_data"
    },
    {
     "data": {
      "image/png": "[encoded data removed]",
      "text/plain": [
       "<Figure size 432x288 with 1 Axes>"
      ]
     },
     "metadata": {
      "needs_background": "light"
     },
     "output_type": "display_data"
    }
   ],
   "source": [
    "def cdf(x):\n",
    "    return 0.5 * erfc(- x / np.sqrt(2.0))\n",
    "\n",
    "def logistic(x):\n",
    "    return 1. / (1 + np.exp(-x))\n",
    "\n",
    "def f_0(z):\n",
    "    return - np.log( 0.5 * erfc(- z / np.sqrt(2.0)) )\n",
    "\n",
    "def f_1(z):\n",
    "    return np.log(1 + np.exp(-z))\n",
    "\n",
    "vals = np.linspace(-10.0, 10.0, 50)\n",
    "\n",
    "plt.plot(vals, cdf(vals))\n",
    "plt.plot(vals, logistic(1.75 * vals))\n",
    "plt.show()\n",
    "\n",
    "plt.plot(vals, f_0(vals))\n",
    "plt.plot(vals, f_1(vals))\n",
    "plt.show()"
   ]
  }
 ],
 "metadata": {
  "kernelspec": {
   "display_name": "Python 3 (ipykernel)",
   "language": "python",
   "name": "python3"
  },
  "language_info": {
   "codemirror_mode": {
    "name": "ipython",
    "version": 3
   },
   "file_extension": ".py",
   "mimetype": "text/x-python",
   "name": "python",
   "nbconvert_exporter": "python",
   "pygments_lexer": "ipython3",
   "version": "3.9.6"
  }
 },
 "nbformat": 4,
 "nbformat_minor": 5
}
