{
 "cells": [
  {
   "cell_type": "code",
   "execution_count": 1,
   "metadata": {},
   "outputs": [],
   "source": [
    "import numpy as np\n",
    "import matplotlib.pyplot as plt\n",
    "import pandas as pd\n",
    "from time import time\n",
    "\n",
    "%load_ext autoreload\n",
    "%autoreload 2"
   ]
  },
  {
   "cell_type": "markdown",
   "metadata": {},
   "source": [
    "# How to use the state evolution package"
   ]
  },
  {
   "cell_type": "markdown",
   "metadata": {},
   "source": [
    "Let's look at a simple example of how to use the state evolution package with custom teacher-student covariance rmrices. The class has three components:\n",
    "- `data_model`: this class defines everything concerning the generative model for data - i.e. it initialises the covariances $\\Psi, \\Phi, \\Omega$ and the teacher weights $\\theta_{0}$ and pre-computes all the quantities required for the state evolution.\n",
    "- `model`: this class defines the task. It basically contains the updates for the overlaps and their conjugates. So far, we have implemented ridge and logistic regression.\n",
    "- `algorithms`: this class defines the iterator for the state evolution."
   ]
  },
  {
   "cell_type": "code",
   "execution_count": 2,
   "metadata": {},
   "outputs": [],
   "source": [
    "from state_evolution.models.logistic_regression import LogisticRegression # logistic regression task\n",
    "from state_evolution.models.bayes_optimal_probit import BayesOptimalProbit\n",
    "from state_evolution.algorithms.state_evolution import StateEvolution # Standard SP iteration\n",
    "from state_evolution.auxiliary.utility import *"
   ]
  },
  {
   "cell_type": "markdown",
   "metadata": {},
   "source": [
    "### Example 1: Custom data model: fixed sample complexity"
   ]
  },
  {
   "cell_type": "markdown",
   "metadata": {},
   "source": [
    "Let's look at a simple example where we input the covariances."
   ]
  },
  {
   "cell_type": "code",
   "execution_count": 3,
   "metadata": {},
   "outputs": [],
   "source": [
    "from state_evolution.data_models.custom import Custom # Custom data model. You input the covariances"
   ]
  },
  {
   "cell_type": "markdown",
   "metadata": {},
   "source": [
    "Recall that the Gaussian covariate model is defined by a teacher-student model with:\n",
    "- Teacher : $y = f_{0}(\\theta_{0}\\cdot u)$, $\\theta_{0}\\sim\\mathcal{N}(0,\\rm{I}_{p})$\n",
    "- Student : $\\hat{y} = \\hat{f}(w\\cdot v)$\n",
    "where $z\\in\\mathbb{R}^{p}$ and $v\\in\\mathbb{R}^{d}$ are jointly Gaussian variables with covariances\n",
    "$$ \\Psi = \\mathbb{E}uu^{\\top}\\in\\mathbb{R}^{p\\times p}, \\qquad \\Phi = \\mathbb{E}uv^{\\top}\\in\\mathbb{R}^{p\\times d}, \\qquad \\Omega = \\mathbb{E}vv^{\\top}\\in\\mathbb{R}^{v\\times v}\n",
    "$$.\n",
    "\n",
    "The class `Custom` takes as input the three covariance matrices that define an instance of the model. "
   ]
  },
  {
   "cell_type": "markdown",
   "metadata": {},
   "source": [
    "As an example, let's look at a simple model of a Gaussian teacher $\\theta_{0}\\sim\\mathcal{N}(0,\\rm{I}_{p})$ and both the teacher and student are Random Feature models on Gaussian i.i.d. data, with different dimensions and activation functions:\n",
    "$$\n",
    "u = \\rm{sign}\\left(\\frac{1}{\\sqrt{D}}\\bar{\\rm{F}}c\\right), \\qquad v = \\rm{erf}\\left(\\frac{1}{\\sqrt{D}}\\rm{F}c\\right), \\qquad c\\sim\\mathcal{N}(0,\\rm{I}_{D})\n",
    "$$\n",
    "\n",
    "In this case recall that the covariances can be computed analytically, and are given by:\n",
    "\n",
    " \\begin{align}\n",
    " \\Psi = \\bar{\\kappa}_{1}^2 \\bar{\\rm{F}}\\bar{\\rm{F}}^{\\top}+\\bar{\\kappa}_{\\star}^2\\rm{I}_{p}, && \\Phi = \\bar{\\kappa}_{1}\\kappa_{1} \\bar{\\rm{F}}\\rm{F}^{\\top}, && \\Omega = \\kappa_{1}^2 \\rm{F}\\rm{F}^{\\top}+\\kappa_{\\star}^2\\rm{I}_{d}\n",
    " \\end{align}\n",
    " \n",
    "with $\\kappa_{1} \\equiv \\mathbb{E}\\left[\\xi\\sigma(\\xi)\\right]$ and $\\kappa_{\\star}^2 \\equiv \\mathbb{E}\\left[\\sigma(\\xi)\\right]^2-\\kappa_{1}^2$ for $\\xi\\sim\\mathcal{N}(0,1)$ (idem for the bar). "
   ]
  },
  {
   "cell_type": "code",
   "execution_count": 4,
   "metadata": {},
   "outputs": [],
   "source": [
    "COEFICIENTS = {'relu': (1/np.sqrt(2*np.pi), 0.5, np.sqrt((np.pi-2)/(4*np.pi))), \n",
    "               'erf': (0, 2/np.sqrt(3*np.pi), 0.200364),\n",
    "               'tanh': (0, 0.605706, 0.165576),\n",
    "               'sign': (0, np.sqrt(2/np.pi), np.sqrt(1-2/np.pi))}\n",
    "\n",
    "D = 128 # dimension of c\n",
    "p = 128 # dimension of k\n",
    "d = 256 # dimension of x\n",
    "\n",
    "F_teacher = np.random.normal(0,1, (p,D)) / np.sqrt(D) # teacher random projection\n",
    "F_student = np.random.normal(0,1, (d,D)) / np.sqrt(D) # student random projection\n",
    "\n",
    "# Coefficients\n",
    "_, kappa1_teacher, kappastar_teacher = COEFICIENTS['erf']\n",
    "_, kappa1_student, kappastar_student = COEFICIENTS['erf']\n",
    "\n",
    "# Covariances\n",
    "\n",
    "Omega = (kappa1_student**2 * F_student @ F_student.T + kappastar_student**2 * np.identity(d))\n",
    "Phi   = kappa1_teacher * kappa1_student * F_teacher @ F_student.T\n",
    "Psi   = (kappa1_teacher**2 * F_teacher @ F_teacher.T + kappastar_teacher**2 * np.identity(p))\n",
    "\n",
    "# Teacher weights\n",
    "theta = np.random.multivariate_normal(mean=np.zeros(p), cov=np.eye(p))\n",
    "# NORMALIZE THE TEACHER FOR BETTER RESULTS\n",
    "theta = np.sqrt(p) * theta / np.linalg.norm(theta)"
   ]
  },
  {
   "cell_type": "markdown",
   "metadata": {},
   "source": [
    "Now that we have our covariances, we can create our instance of `Custom`:"
   ]
  },
  {
   "cell_type": "code",
   "execution_count": 5,
   "metadata": {},
   "outputs": [],
   "source": [
    "data_model = Custom(teacher_teacher_cov = Psi,\n",
    "                    student_student_cov = Omega,\n",
    "                    teacher_student_cov = Phi,\n",
    "                    teacher_weights = theta)"
   ]
  },
  {
   "cell_type": "markdown",
   "metadata": {},
   "source": [
    "Now, we need to load our task. Let's look at logistic regression. The `model` class takes as an input the sample complexity $\\alpha = n/d$ and the $\\ell_2$ regularisation $\\lambda>0$"
   ]
  },
  {
   "cell_type": "code",
   "execution_count": 13,
   "metadata": {},
   "outputs": [],
   "source": [
    "alpha = 0.5\n",
    "\n",
    "task = LogisticRegression(sample_complexity = alpha,\n",
    "                          regularisation= 0.01,\n",
    "                          data_model = data_model,\n",
    "                          Delta = 1.0)\n",
    "\n",
    "bo_task = BayesOptimalProbit(sample_complexity = alpha,\n",
    "                          data_model = data_model,\n",
    "                          Delta = 1.0)"
   ]
  },
  {
   "cell_type": "markdown",
   "metadata": {},
   "source": [
    "All that is left is to initialise the saddle-point equation iterator:"
   ]
  },
  {
   "cell_type": "code",
   "execution_count": 14,
   "metadata": {},
   "outputs": [],
   "source": [
    "sp = StateEvolution(model = task,\n",
    "                    initialisation = 'uninformed',\n",
    "                    tolerance = 1e-7,\n",
    "                    damping = 0.5,\n",
    "                    verbose = False,\n",
    "                    max_steps = 1000)"
   ]
  },
  {
   "cell_type": "code",
   "execution_count": 15,
   "metadata": {},
   "outputs": [],
   "source": [
    "bo_sp = StateEvolution(model = bo_task,\n",
    "                    initialisation = 'uninformed',\n",
    "                    tolerance = 1e-7,\n",
    "                    damping = 0.5,\n",
    "                    verbose = False,\n",
    "                    max_steps = 1000)"
   ]
  },
  {
   "cell_type": "markdown",
   "metadata": {},
   "source": [
    "Now, we can simply iterate it"
   ]
  },
  {
   "cell_type": "code",
   "execution_count": 16,
   "metadata": {
    "scrolled": true
   },
   "outputs": [
    {
     "name": "stdout",
     "output_type": "stream",
     "text": [
      "Elapsed time : 6.4636030197143555\n"
     ]
    }
   ],
   "source": [
    "debut = time()\n",
    "sp.iterate()\n",
    "print(f'Elapsed time : {time() - debut}')"
   ]
  },
  {
   "cell_type": "code",
   "execution_count": 17,
   "metadata": {},
   "outputs": [
    {
     "name": "stdout",
     "output_type": "stream",
     "text": [
      "Elapsed time : 0.6712889671325684\n"
     ]
    }
   ],
   "source": [
    "debut = time()\n",
    "bo_sp.iterate()\n",
    "print(f'Elapsed time : {time() - debut}')"
   ]
  },
  {
   "cell_type": "markdown",
   "metadata": {},
   "source": [
    "Voila, now you can check the result with method `get_info`, which gives everything you might be interested in a dictionary."
   ]
  },
  {
   "cell_type": "code",
   "execution_count": 18,
   "metadata": {},
   "outputs": [
    {
     "name": "stdout",
     "output_type": "stream",
     "text": [
      "{'hyperparameters': {'initialisation': 'uninformed', 'damping': 0.5, 'max_steps': 1000, 'tolerance': 1e-07}, 'status': 1, 'convergence_time': 68, 'test_error': 0.46006785249794185, 'overlaps': {'variance': 18.702451857828258, 'self_overlap': 7.156038166555334, 'teacher_student': 0.3966002213672768}, 'test_loss': 1.1495935041793501, 'train_loss': 0.1277297804996524, 'calibration': 0.22934699293281557}\n",
      "{'hyperparameters': {'initialisation': 'uninformed', 'damping': 0.5, 'max_steps': 1000, 'tolerance': 1e-07}, 'status': 1, 'convergence_time': 36, 'test_error': 0.43606349536271244, 'overlaps': {'variance': 0.33413029516428794, 'self_overlap': 0.055887755452640055, 'teacher_student': 0.055887755452640055}, 'test_loss': -1.0, 'train_loss': -1.0, 'calibration': 0.0}\n"
     ]
    }
   ],
   "source": [
    "print(sp.get_info())\n",
    "print(bo_sp.get_info())"
   ]
  },
  {
   "cell_type": "markdown",
   "metadata": {},
   "source": [
    "### Example 2: Custom data model: whole learning curve"
   ]
  },
  {
   "cell_type": "markdown",
   "metadata": {},
   "source": [
    "It is boring to repeat all the pipeline above every time you want to compute a new $\\alpha$. Instead, we can encapsulate it in an `experiment` class which allows one to compute a whole learning curve in one go."
   ]
  },
  {
   "cell_type": "code",
   "execution_count": 19,
   "metadata": {},
   "outputs": [],
   "source": [
    "from state_evolution.experiments.learning_curve import CustomExperiment"
   ]
  },
  {
   "cell_type": "markdown",
   "metadata": {},
   "source": [
    "The class `CustomExperiment` takes as argument the task you want (from those implemented), the regularisation and the data_model, apart from all the hyperparameters of the iterator."
   ]
  },
  {
   "cell_type": "code",
   "execution_count": 20,
   "metadata": {},
   "outputs": [],
   "source": [
    "erm_experiment = CustomExperiment(task = 'logistic_regression', \n",
    "                                 regularisation = 1.0, \n",
    "                                 data_model = data_model, \n",
    "                                 initialisation='uninformed', \n",
    "                                 tolerance = 1e-7, \n",
    "                                 damping = 0.5, \n",
    "                                 verbose = False, \n",
    "                                 max_steps = 1000,\n",
    "                                 sigma = 0.0)\n",
    "\n",
    "bo_experiment = CustomExperiment(task = 'bo_probit', \n",
    "                                 regularisation = None, \n",
    "                                 data_model = data_model, \n",
    "                                 initialisation='uninformed', \n",
    "                                 tolerance = 1e-7, \n",
    "                                 damping = 0.5, \n",
    "                                 verbose = False, \n",
    "                                 max_steps = 1000,\n",
    "                                 sigma = 0.0)"
   ]
  },
  {
   "cell_type": "markdown",
   "metadata": {},
   "source": [
    "To compute the learning curve, you need to pass a python iterable with the values of the sample complexity you want to compute"
   ]
  },
  {
   "cell_type": "code",
   "execution_count": 21,
   "metadata": {
    "scrolled": true
   },
   "outputs": [],
   "source": [
    "alpha_range = np.linspace(0.1, 1.0, 5)\n",
    "bo_experiment.learning_curve(alphas = alpha_range)\n",
    "erm_experiment.learning_curve(alphas = alpha_range)"
   ]
  },
  {
   "cell_type": "code",
   "execution_count": 27,
   "metadata": {},
   "outputs": [
    {
     "name": "stdout",
     "output_type": "stream",
     "text": [
      "   sample_complexity         q\n",
      "0              0.100  0.038649\n",
      "1              0.325  0.106993\n",
      "2              0.550  0.156382\n",
      "3              0.775  0.192908\n",
      "4              1.000  0.220594\n"
     ]
    }
   ],
   "source": [
    "print(bo_experiment.get_curve()[['sample_complexity', 'q']])"
   ]
  },
  {
   "cell_type": "markdown",
   "metadata": {},
   "source": [
    "The method `.get_curve()` returns the learning curve as a `pandas.DataFrame`."
   ]
  },
  {
   "cell_type": "code",
   "execution_count": 22,
   "metadata": {},
   "outputs": [
    {
     "data": {
      "text/plain": [
       "<matplotlib.legend.Legend at 0x144054400>"
      ]
     },
     "execution_count": 22,
     "metadata": {},
     "output_type": "execute_result"
    },
    {
     "data": {
      "image/png": "[encoded data removed]",
      "text/plain": [
       "<Figure size 432x288 with 1 Axes>"
      ]
     },
     "metadata": {
      "needs_background": "light"
     },
     "output_type": "display_data"
    }
   ],
   "source": [
    "erm_curve = erm_experiment.get_curve()\n",
    "plt.plot(erm_curve['sample_complexity'], erm_curve['test_error'], label='ERM')\n",
    "\n",
    "bo_curve = bo_experiment.get_curve()\n",
    "plt.plot(bo_curve['sample_complexity'], bo_curve['test_error'], label='BO')\n",
    "\n",
    "plt.legend()"
   ]
  },
  {
   "cell_type": "markdown",
   "metadata": {},
   "source": [
    "Note you can save it in a csv, you can just call the method `save_experiment`"
   ]
  },
  {
   "cell_type": "code",
   "execution_count": 15,
   "metadata": {},
   "outputs": [],
   "source": [
    "#my_experiment.save_experiment(name='testing')"
   ]
  },
  {
   "cell_type": "markdown",
   "metadata": {},
   "source": [
    "### Example 3: defining a model directly as a function of the specta"
   ]
  },
  {
   "cell_type": "markdown",
   "metadata": {},
   "source": [
    "Note that even though an instance of the Gaussian covariate model is defined by $(\\Psi, \\Phi, \\Omega, \\theta_{0})$, the saddle-point equations can be closed on the following scalar quantities:\n",
    "\\begin{align}\n",
    "\\rho = \\frac{1}{p}\\theta_{0}^{\\top}\\Psi\\theta_{0}, && \\omega_{i}\\in \\rm{spec}(\\Omega), && t_{i} = \\left(U^{\\top}\\Phi^{\\top}\\theta_{0}\\theta_{0}^{\\top}\\Phi U\\right)_{ii}, && i=1, \\cdots, d\n",
    "\\end{align}\n",
    "where $\\rm{spec}(\\Omega)$ are the eigenvalues of $\\Omega$ and $U\\in\\mathbb{R}^{d\\times d}$ are the eigenvectors of $\\Omega$. \n",
    "\n",
    "Therefore, we can also define our `data_model` by directly passing these quantities to the class `CustomSpectra`"
   ]
  },
  {
   "cell_type": "code",
   "execution_count": 6,
   "metadata": {},
   "outputs": [],
   "source": [
    "from state_evolution.data_models.custom import CustomSpectra"
   ]
  },
  {
   "cell_type": "code",
   "execution_count": 7,
   "metadata": {},
   "outputs": [
    {
     "name": "stdout",
     "output_type": "stream",
     "text": [
      "Computing the spectrum\n",
      "Projection in student basis\n",
      "Computing rho\n"
     ]
    }
   ],
   "source": [
    "print('Computing the spectrum')\n",
    "spec_Omega, U = np.linalg.eigh(Omega)\n",
    "\n",
    "print('Projection in student basis')\n",
    "t = np.diagonal(U.T @ Phi.T @ theta.reshape(p, 1) @ theta.reshape(1, p) @ Phi @ U)\n",
    "\n",
    "print('Computing rho')\n",
    "rho = 1/p * theta.dot(Psi @ theta)"
   ]
  },
  {
   "cell_type": "markdown",
   "metadata": {},
   "source": [
    "Note that $\\rho\\in\\mathbb{R}$, but both $\\{\\omega_{i}\\}_{i=1}^{d}$ and $\\{t_{i}\\}_{i=1}^{d}$ are $d$-dimensional quantities. Therefore, we will also need to pass $\\gamma = p/d$ to our `data_model` in order to run the saddle-point equations."
   ]
  },
  {
   "cell_type": "code",
   "execution_count": 9,
   "metadata": {},
   "outputs": [],
   "source": [
    "data_model_spec = CustomSpectra(rho = rho, \n",
    "                                spec_Omega = spec_Omega, \n",
    "                                diagonal_term = t,\n",
    "                                gamma = p/d)"
   ]
  },
  {
   "cell_type": "code",
   "execution_count": 13,
   "metadata": {},
   "outputs": [
    {
     "name": "stdout",
     "output_type": "stream",
     "text": [
      "Runninig sample complexity: 0.5\n"
     ]
    }
   ],
   "source": [
    "my_experiment = CustomExperiment(task = 'logistic_regression', \n",
    "                                 regularisation = 0.01, \n",
    "                                 data_model = data_model_spec, \n",
    "                                 initialisation='uninformed', \n",
    "                                 tolerance = 1e-7, \n",
    "                                 damping = 0.5, \n",
    "                                 verbose = True, \n",
    "                                 max_steps = 1000)\n",
    "\n",
    "my_experiment.learning_curve(alphas = [0.5])"
   ]
  },
  {
   "cell_type": "code",
   "execution_count": null,
   "metadata": {},
   "outputs": [],
   "source": []
  }
 ],
 "metadata": {
  "kernelspec": {
   "display_name": "Python 3 (ipykernel)",
   "language": "python",
   "name": "python3"
  },
  "language_info": {
   "codemirror_mode": {
    "name": "ipython",
    "version": 3
   },
   "file_extension": ".py",
   "mimetype": "text/x-python",
   "name": "python",
   "nbconvert_exporter": "python",
   "pygments_lexer": "ipython3",
   "version": "3.9.7"
  }
 },
 "nbformat": 4,
 "nbformat_minor": 4
}
